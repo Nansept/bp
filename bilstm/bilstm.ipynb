{
 "cells": [
  {
   "cell_type": "code",
   "execution_count": 1,
   "metadata": {
    "collapsed": true,
    "deletable": true,
    "editable": true
   },
   "outputs": [],
   "source": [
    "import time\n",
    "import numpy as np\n",
    "import pandas as pd\n",
    "import tensorflow as tf"
   ]
  },
  {
   "cell_type": "code",
   "execution_count": 2,
   "metadata": {
    "collapsed": true,
    "deletable": true,
    "editable": true
   },
   "outputs": [],
   "source": [
    "# batch size\n",
    "batch_size = 10\n",
    "# input vector size\n",
    "hidden_size = 300\n",
    "# unroll rnn with truncated bp,\n",
    "# with a fixed number of number(num_step) cells\n",
    "num_steps = 10\n",
    "# forget bias\n",
    "forget_bias = 1.0\n",
    "# keep probability\n",
    "keep_prob = 0.5\n",
    "# num of layers in multiple layer lstm\n",
    "num_layers = 2\n",
    "# num of output classes \n",
    "num_classes = 5"
   ]
  },
  {
   "cell_type": "code",
   "execution_count": 3,
   "metadata": {
    "collapsed": true,
    "deletable": true,
    "editable": true
   },
   "outputs": [],
   "source": [
    "data = np.load(\"../labeledEmbedding.npy\")\n",
    "assert data.shape[1] == hidden_size, \"hidden_size shoule be equal to data.shape[0]\"\n",
    "label = pd.read_csv(\"../EmbeddingLabel.csv\", index_col=0, names=['label']).values\n",
    "batch_len = data.shape[0] // batch_size\n",
    "data = np.reshape(data[0: batch_size*batch_len], [batch_size, batch_len, -1])\n",
    "label = label[0: batch_size*batch_len].reshape(batch_size, -1)\n",
    "epoch_size = (batch_len - 1) // num_steps"
   ]
  },
  {
   "cell_type": "code",
   "execution_count": 4,
   "metadata": {
    "collapsed": true,
    "deletable": true,
    "editable": true
   },
   "outputs": [],
   "source": [
    "# input data\n",
    "def input_producer(data, label, epoch_size, batch_size, num_steps):\n",
    "    data = tf.convert_to_tensor(data, name=\"data\", dtype=tf.float32)\n",
    "    label = tf.convert_to_tensor(label, name=\"label\", dtype=tf.int32)\n",
    "    assertion = tf.assert_positive(\n",
    "        epoch_size,\n",
    "        message=\"epoch_size == 0, decrease batch_size or num_steps\")\n",
    "    with tf.control_dependencies([assertion]):\n",
    "        epoch_size = tf.identity(epoch_size, name=\"epoch_size\") \n",
    "    i = tf.train.range_input_producer(epoch_size, shuffle=False).dequeue()\n",
    "    x = tf.strided_slice(data, [0, i * num_steps, 0], [batch_size, (i + 1) * num_steps, hidden_size])\n",
    "    x.set_shape([batch_size, num_steps, hidden_size])\n",
    "    y = tf.strided_slice(label, [0, i * num_steps], [batch_size, (i + 1) * num_steps])\n",
    "    y.set_shape([batch_size, num_steps])\n",
    "    return x, y  "
   ]
  },
  {
   "cell_type": "code",
   "execution_count": 5,
   "metadata": {
    "collapsed": false,
    "deletable": true,
    "editable": true
   },
   "outputs": [],
   "source": [
    "inputs, labels = input_producer(data, label, epoch_size, batch_size, num_steps)\n",
    "inputs = tf.unstack(inputs, num=num_steps, axis=1)"
   ]
  },
  {
   "cell_type": "code",
   "execution_count": 6,
   "metadata": {
    "collapsed": true,
    "deletable": true,
    "editable": true
   },
   "outputs": [],
   "source": [
    "lstm_fw = tf.contrib.rnn.BasicLSTMCell(num_units=hidden_size, forget_bias=forget_bias)\n",
    "\n",
    "lstm_fw = tf.contrib.rnn.DropoutWrapper(lstm_fw, output_keep_prob=keep_prob)\n",
    "\n",
    "multi_lstm_fw = tf.contrib.rnn.MultiRNNCell([lstm_fw] * num_layers)\n",
    "\n",
    "initial_state_fw = multi_lstm_fw.zero_state(batch_size, tf.float32)\n",
    "\n",
    "lstm_bw = tf.contrib.rnn.BasicLSTMCell(num_units=hidden_size, forget_bias=forget_bias)\n",
    "\n",
    "lstm_bw = tf.contrib.rnn.DropoutWrapper(lstm_bw, output_keep_prob=keep_prob)\n",
    "\n",
    "multi_lstm_bw = tf.contrib.rnn.MultiRNNCell([lstm_bw] * num_layers)\n",
    "\n",
    "initial_state_bw = multi_lstm_bw.zero_state(batch_size, tf.float32)"
   ]
  },
  {
   "cell_type": "code",
   "execution_count": 7,
   "metadata": {
    "collapsed": false,
    "deletable": true,
    "editable": true
   },
   "outputs": [],
   "source": [
    "outputs, output_state_fw, output_state_bw = tf.contrib.rnn.static_bidirectional_rnn(cell_fw=multi_lstm_fw, cell_bw=multi_lstm_bw, inputs=inputs, initial_state_fw = initial_state_fw, initial_state_bw = initial_state_bw,dtype=tf.float32)"
   ]
  },
  {
   "cell_type": "code",
   "execution_count": 8,
   "metadata": {
    "collapsed": true,
    "deletable": true,
    "editable": true
   },
   "outputs": [],
   "source": [
    "softmax_w = tf.get_variable(\"softmax_w\", [2*hidden_size, num_classes], dtype=tf.float32)\n",
    "softmax_b = tf.get_variable(\"softmax_b\", [num_classes], dtype=tf.float32)"
   ]
  },
  {
   "cell_type": "code",
   "execution_count": 9,
   "metadata": {
    "collapsed": false,
    "deletable": true,
    "editable": true
   },
   "outputs": [],
   "source": [
    "output = tf.reshape(tf.concat(outputs, 1), [-1, 2 * hidden_size])\n",
    "logits = tf.matmul(output, softmax_w) + softmax_b\n",
    "loss = tf.contrib.legacy_seq2seq.sequence_loss_by_example(\n",
    "    logits=[logits],\n",
    "    targets=[tf.reshape(labels, [-1])],\n",
    "    weights=[tf.ones([batch_size * num_steps], dtype=tf.float32)])\n",
    "\n",
    "cost = tf.reduce_sum(loss) / batch_size"
   ]
  },
  {
   "cell_type": "code",
   "execution_count": 10,
   "metadata": {
    "collapsed": true,
    "deletable": true,
    "editable": true
   },
   "outputs": [],
   "source": [
    "optimizer = tf.train.GradientDescentOptimizer(0.1)\n",
    "train_op = optimizer.minimize(cost)"
   ]
  },
  {
   "cell_type": "code",
   "execution_count": 11,
   "metadata": {
    "collapsed": true,
    "deletable": true,
    "editable": true
   },
   "outputs": [],
   "source": [
    "sv = tf.train.Supervisor(logdir=\"log\")"
   ]
  },
  {
   "cell_type": "code",
   "execution_count": 12,
   "metadata": {
    "collapsed": false,
    "deletable": true,
    "editable": true
   },
   "outputs": [
    {
     "name": "stdout",
     "output_type": "stream",
     "text": [
      "0.000 perplexity: 8.873 speed: 109 wps\n",
      "0.080 perplexity: 3.384 speed: 218 wps\n",
      "0.160 perplexity: 2.723 speed: 254 wps\n",
      "0.240 perplexity: 2.414 speed: 294 wps\n",
      "0.320 perplexity: 2.330 speed: 298 wps\n",
      "0.400 perplexity: 2.246 speed: 306 wps\n",
      "0.480 perplexity: 2.228 speed: 322 wps\n",
      "0.560 perplexity: 2.219 speed: 336 wps\n",
      "0.640 perplexity: 2.177 speed: 347 wps\n",
      "0.720 perplexity: 2.161 speed: 357 wps\n",
      "0.800 perplexity: 2.135 speed: 365 wps\n",
      "0.880 perplexity: 2.093 speed: 372 wps\n",
      "0.960 perplexity: 2.053 speed: 379 wps\n"
     ]
    }
   ],
   "source": [
    "with sv.managed_session() as sess:\n",
    "    sess.run(initial_state_fw)\n",
    "\n",
    "    start_time = time.time()\n",
    "    costs = 0.0\n",
    "    iters = 0.0\n",
    "    \n",
    "    state_fw = sess.run(initial_state_fw)\n",
    "    state_bw = sess.run(initial_state_bw)\n",
    "\n",
    "    for step in range(epoch_size):\n",
    "        feed_dict = {}\n",
    "        for i, (c, h) in enumerate(initial_state_fw):\n",
    "            feed_dict[c] = state_fw[i].c\n",
    "            feed_dict[h] = state_fw[i].h\n",
    "        for i, (c, h) in enumerate(initial_state_bw):\n",
    "            feed_dict[c] = state_bw[i].c\n",
    "            feed_dict[h] = state_bw[i].h\n",
    "            \n",
    "        c, state_fw, state_bw, _ = sess.run(\n",
    "            [cost, output_state_fw, output_state_bw, train_op],\n",
    "            feed_dict)\n",
    "    \n",
    "        costs += c\n",
    "        iters += num_steps\n",
    "    \n",
    "        if step % (epoch_size // 10) == 0:\n",
    "            print(\"%.3f perplexity: %.3f speed: %.0f wps\" %\n",
    "                (step * 1.0 / epoch_size, np.exp(costs / iters),\n",
    "                 iters * batch_size / (time.time() - start_time)))"
   ]
  },
  {
   "cell_type": "code",
   "execution_count": null,
   "metadata": {
    "collapsed": true,
    "deletable": true,
    "editable": true
   },
   "outputs": [],
   "source": []
  }
 ],
 "metadata": {
  "kernelspec": {
   "display_name": "Python 2",
   "language": "python",
   "name": "python2"
  },
  "language_info": {
   "codemirror_mode": {
    "name": "ipython",
    "version": 2
   },
   "file_extension": ".py",
   "mimetype": "text/x-python",
   "name": "python",
   "nbconvert_exporter": "python",
   "pygments_lexer": "ipython2",
   "version": "2.7.6"
  }
 },
 "nbformat": 4,
 "nbformat_minor": 2
}
