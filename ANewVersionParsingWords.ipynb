{
 "cells": [
  {
   "cell_type": "code",
   "execution_count": 49,
   "metadata": {
    "collapsed": false
   },
   "outputs": [],
   "source": [
    "from os import path\n",
    "import re\n",
    "import jieba\n",
    "import pandas as pd\n",
    "import json\n",
    "\n",
    "jieba.load_userdict('user.dict')"
   ]
  },
  {
   "cell_type": "code",
   "execution_count": 61,
   "metadata": {
    "collapsed": true
   },
   "outputs": [],
   "source": [
    "# read json files\n",
    "\n",
    "def jsonRead(num):\n",
    "    fn = '155/15'+str(num)+'.json'\n",
    "    f = open(fn,'r').read()\n",
    "    c = json.loads(f)\n",
    "    return c"
   ]
  },
  {
   "cell_type": "code",
   "execution_count": 62,
   "metadata": {
    "collapsed": false
   },
   "outputs": [],
   "source": [
    "#分词函数\n",
    "def cutSave(c,num):\n",
    "    a_test = []\n",
    "    if len(c)==0:\n",
    "        a_test=[[]]\n",
    "    else:\n",
    "        for i in range(len(c)):\n",
    "            a_test.append(jieba.lcut(re.sub(\"<.*>|\\n\",\"\",c[i])))\n",
    "    return a_test"
   ]
  },
  {
   "cell_type": "code",
   "execution_count": 63,
   "metadata": {
    "collapsed": false
   },
   "outputs": [],
   "source": [
    "#分出的词分文件保存\n",
    "for num in range(341):\n",
    "    json.dump(cutSave(jsonRead(num), num)\n",
    "              , open('155/0/'+str(num)+'.json','w'))"
   ]
  },
  {
   "cell_type": "code",
   "execution_count": null,
   "metadata": {
    "collapsed": true
   },
   "outputs": [],
   "source": []
  }
 ],
 "metadata": {
  "kernelspec": {
   "display_name": "Python [Root]",
   "language": "python",
   "name": "Python [Root]"
  },
  "language_info": {
   "codemirror_mode": {
    "name": "ipython",
    "version": 2
   },
   "file_extension": ".py",
   "mimetype": "text/x-python",
   "name": "python",
   "nbconvert_exporter": "python",
   "pygments_lexer": "ipython2",
   "version": "2.7.12"
  }
 },
 "nbformat": 4,
 "nbformat_minor": 0
}
